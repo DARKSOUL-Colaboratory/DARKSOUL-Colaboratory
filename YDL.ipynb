{
  "nbformat": 4,
  "nbformat_minor": 0,
  "metadata": {
    "colab": {
      "name": "YDL.ipynb",
      "provenance": [],
      "collapsed_sections": [],
      "authorship_tag": "ABX9TyM+Yv8sAqhMYWXGKmVDD6PV",
      "include_colab_link": true
    },
    "kernelspec": {
      "name": "python3",
      "display_name": "Python 3"
    },
    "language_info": {
      "name": "python"
    }
  },
  "cells": [
    {
      "cell_type": "markdown",
      "metadata": {
        "id": "view-in-github",
        "colab_type": "text"
      },
      "source": [
        "<a href=\"https://colab.research.google.com/github/DARKSOUL-Colaboratory/DARKSOUL-Colaboratory/blob/main/YDL.ipynb\" target=\"_parent\"><img src=\"https://colab.research.google.com/assets/colab-badge.svg\" alt=\"Open In Colab\"/></a>"
      ]
    },
    {
      "cell_type": "code",
      "execution_count": 4,
      "metadata": {
        "colab": {
          "base_uri": "https://localhost:8080/"
        },
        "cellView": "form",
        "id": "Qkrj_aQEy_jY",
        "outputId": "889106c5-f752-4f15-a360-ef08e4f0ed19"
      },
      "outputs": [
        {
          "output_type": "stream",
          "name": "stdout",
          "text": [
            "\n",
            " > Installing YT-DLP...\n",
            "\n",
            "Looking in indexes: https://pypi.org/simple, https://us-python.pkg.dev/colab-wheels/public/simple/\n",
            "Requirement already satisfied: yt-dlp in /usr/local/lib/python3.7/dist-packages (2022.8.14)\n",
            "Requirement already satisfied: certifi in /usr/local/lib/python3.7/dist-packages (from yt-dlp) (2022.6.15)\n",
            "Requirement already satisfied: websockets in /usr/local/lib/python3.7/dist-packages (from yt-dlp) (10.3)\n",
            "Requirement already satisfied: pycryptodomex in /usr/local/lib/python3.7/dist-packages (from yt-dlp) (3.15.0)\n",
            "Requirement already satisfied: mutagen in /usr/local/lib/python3.7/dist-packages (from yt-dlp) (1.45.1)\n",
            "Requirement already satisfied: brotli in /usr/local/lib/python3.7/dist-packages (from yt-dlp) (1.0.9)\n",
            "\n",
            " > Installing URLLIB3...\n",
            "\n",
            "Looking in indexes: https://pypi.org/simple, https://us-python.pkg.dev/colab-wheels/public/simple/\n",
            "Requirement already satisfied: urllib3 in /usr/local/lib/python3.7/dist-packages (1.24.3)\n",
            "\n",
            " > Installing  PILLOW...\n",
            "\n",
            "Looking in indexes: https://pypi.org/simple, https://us-python.pkg.dev/colab-wheels/public/simple/\n",
            "Requirement already satisfied: pillow in /usr/local/lib/python3.7/dist-packages (7.1.2)\n"
          ]
        }
      ],
      "source": [
        "#@title Install Libraries\n",
        "#@markdown * YT-DLP,\n",
        "#@markdown * URLLIB3,\n",
        "#@markdown * PILLOW,\n",
        "\n",
        "print(\"\\n > Installing YT-DLP...\\n\")\n",
        "!pip install yt-dlp\n",
        "print(\"\\n > Installing URLLIB3...\\n\")\n",
        "!pip install urllib3\n",
        "print(\"\\n > Installing  PILLOW...\\n\")\n",
        "!pip install pillow"
      ]
    },
    {
      "cell_type": "code",
      "source": [
        "#@title MOUNT/ UNMOUNT GDrive\n",
        "\n",
        "from google.colab import drive\n",
        "\n",
        "MODE= \"MOUNT\" #@param [\"MOUNT\", \"UNMOUNT\"]\n",
        "\n",
        "if MODE == \"MOUNT\":\n",
        "  try:\n",
        "    drive.mount('/content/gdrive', force_remount= True)\n",
        "    print(\" > GDrive successfully MOUNTED...!\")\n",
        "  except:\n",
        "    print(\" > Failed to MOUNT GDrive...!\")\n",
        "elif MODE == \"UNMOUNT\":\n",
        "  try:\n",
        "    drive.flush_and_unmount()\n",
        "    print(\" > GDrive successfully UNMOUNTED...!\")\n",
        "  except:\n",
        "    print(\" > Failed to UNMOUNT GDrive...!\")"
      ],
      "metadata": {
        "cellView": "form",
        "id": "daHou8qy0fUE"
      },
      "execution_count": null,
      "outputs": []
    },
    {
      "cell_type": "code",
      "source": [
        "#@title VIDEO/ MP3\n",
        "FORMAT= \"MP4\" #@param [\"MP4\", \"MP3\"]"
      ],
      "metadata": {
        "cellView": "form",
        "id": "SKrqD3ob0xNT"
      },
      "execution_count": null,
      "outputs": []
    },
    {
      "cell_type": "code",
      "source": [
        "if FORMAT== \"MP3\":\n",
        "  #@title Y2MP3 Downloader to GDrive\n",
        "\n",
        "  import os\n",
        "  from PIL import Image\n",
        "  from yt_dlp import YoutubeDL\n",
        "  from urllib.request import urlretrieve\n",
        "  from mutagen.id3 import ID3, APIC, error\n",
        "  from mutagen.mp3 import MP3\n",
        "\n",
        "  from datetime import datetime\n",
        "  start=datetime.now()\n",
        "\n",
        "  URL= \"https://www.youtube.com/watch?v=J1G9DU4Rc9c\" #@param {\"type\": \"string\"}\n",
        "  url= str(URL)\n",
        "\n",
        "  print(\"\\n > Downloading...!\\n\")\n",
        "\n",
        "  def my_hook(d):\n",
        "      if d['status'] == 'finished':\n",
        "          print(\"\\n > Download Completed...!\")\n",
        "          print(\"\\n > Converting...!\")\n",
        "\n",
        "  ydl_opts = {\n",
        "      'quiet': True,\n",
        "      'format': 'bestaudio/best',\n",
        "      'outtmpl': 'gdrive/MyDrive/Y2MP3/Downloads/%(title)s.%(ext)s',\n",
        "      'postprocessors': [{\n",
        "          'key': 'FFmpegExtractAudio',\n",
        "          'preferredcodec': 'mp3',\n",
        "          'preferredquality': '320',\n",
        "      }],\n",
        "      'progress_hooks': [my_hook],\n",
        "  }\n",
        "\n",
        "  with YoutubeDL(ydl_opts) as ydl:\n",
        "      info_dict= ydl.extract_info(url, download= True)\n",
        "      global title\n",
        "      title= info_dict['title']\n",
        "      ext= info_dict['ext']\n",
        "      global thumbnail\n",
        "      thumbnail = info_dict['thumbnail']\n",
        "      audio_url= info_dict['url']\n",
        "\n",
        "  file_name= title.replace('\\\\', \"_\").replace('/', \"_\").replace(':', \"_\").replace('*', \"_\").replace('?', \"_\").replace('\"', \"_\").replace('<', \"_\").replace('>', \"_\").replace('|', \"_\")\n",
        "\n",
        "  urlretrieve(thumbnail, \"gdrive/MyDrive/Y2MP3/Downloads/albumart.webp\")\n",
        "\n",
        "  try:\n",
        "      im= Image.open('gdrive/MyDrive/Y2MP3/Downloads/albumart.webp').convert(\"RGB\")\n",
        "      im.save(\"gdrive/MyDrive/Y2MP3/Downloads/albumart.jpg\", \"jpeg\")\n",
        "\n",
        "      os.remove('gdrive/MyDrive/Y2MP3/Downloads/albumart.webp')\n",
        "  except:\n",
        "      pass\n",
        "\n",
        "  try:\n",
        "    audio= MP3(f\"gdrive/MyDrive/Y2MP3/Downloads/{file_name}.mp3\", ID3= ID3)\n",
        "    audio.add_tags()\n",
        "  except:\n",
        "    pass\n",
        "\n",
        "  try:\n",
        "    audio.tags.add(\n",
        "        APIC(\n",
        "            encoding= 3,\n",
        "            mime= \"image/jpg\",\n",
        "            type= 3,\n",
        "            desc= u\"Cover\",\n",
        "            data= open(f\"gdrive/MyDrive/Y2MP3/Downloads/albumart.jpg\", \"rb\").read()\n",
        "        )\n",
        "    )\n",
        "    audio.save()\n",
        "  except:\n",
        "    pass\n",
        "\n",
        "  os.remove('gdrive/MyDrive/Y2MP3/Downloads/albumart.jpg')\n",
        "  print(\"\\n > Track Successfully Downloaded!\\n\")\n",
        "\n",
        "  print (\"\\n > Spend time to Download: \", datetime.now()-start)"
      ],
      "metadata": {
        "cellView": "form",
        "id": "rRYG7m6t1Y4a"
      },
      "execution_count": null,
      "outputs": []
    }
  ]
}